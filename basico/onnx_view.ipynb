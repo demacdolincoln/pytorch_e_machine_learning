{
 "cells": [
  {
   "cell_type": "code",
   "execution_count": 1,
   "metadata": {},
   "outputs": [],
   "source": [
    "from torchvision import datasets, transforms, models\n",
    "from torch.utils.data import Dataset, DataLoader\n",
    "\n",
    "import torch\n",
    "from torch import nn, optim\n",
    "from torch.nn import functional as F\n",
    "\n",
    "from ignite.engine import create_supervised_trainer, create_supervised_evaluator, Events\n",
    "from ignite.metrics import Accuracy, MeanSquaredError\n",
    "\n",
    "# import onnx"
   ]
  },
  {
   "cell_type": "code",
   "execution_count": 2,
   "metadata": {},
   "outputs": [],
   "source": [
    "trans = transforms.Compose([transforms.ToTensor()])\n",
    "\n",
    "data_path = \"../../datasets/mnist/\"\n",
    "data = datasets.MNIST(data_path, transform=trans) # download=True)\n",
    "\n",
    "batch_size = 60\n",
    "train_data = DataLoader(dataset=data, batch_size=batch_size*10, shuffle=True)"
   ]
  },
  {
   "cell_type": "code",
   "execution_count": 3,
   "metadata": {},
   "outputs": [],
   "source": [
    "class CNN(nn.Module):\n",
    "    def __init__(self):\n",
    "        super(CNN, self).__init__()\n",
    "        self.conv1 = nn.Sequential(\n",
    "            nn.Conv2d(1, 16, 5, stride=2),\n",
    "            nn.ReLU(),\n",
    "            nn.MaxPool2d(kernel_size=2)\n",
    "        )\n",
    "        self.conv2 = nn.Sequential(\n",
    "            nn.Conv2d(16, 32, 5, stride=2),\n",
    "            nn.ReLU(),\n",
    "            nn.MaxPool2d(kernel_size=2)\n",
    "        )\n",
    "        \n",
    "        self.fc1 = nn.Linear(32, 50)\n",
    "        self.fc2 = nn.Linear(50, 10)\n",
    "        \n",
    "    def forward(self, x):\n",
    "        \n",
    "        x = self.conv1(x)\n",
    "        x = self.conv2(x)\n",
    "#         print(x.shape)\n",
    "        x = x.view(x.shape[0], -1)\n",
    "        \n",
    "        x = F.relu(self.fc1(x))\n",
    "        x = self.fc2(x)\n",
    "        return x"
   ]
  },
  {
   "cell_type": "code",
   "execution_count": 4,
   "metadata": {},
   "outputs": [],
   "source": [
    "cnn = CNN()"
   ]
  },
  {
   "cell_type": "code",
   "execution_count": 5,
   "metadata": {},
   "outputs": [],
   "source": [
    "criterion = nn.CrossEntropyLoss()\n",
    "optimizer = optim.Adam(cnn.parameters(), lr=1e-3)\n",
    "\n",
    "trainer = create_supervised_trainer(cnn, optimizer, criterion)\n",
    "evaluator = create_supervised_evaluator(\n",
    "    cnn,\n",
    "    metrics={\n",
    "        \"accuracy\": Accuracy()\n",
    "    }\n",
    ")"
   ]
  },
  {
   "cell_type": "code",
   "execution_count": 6,
   "metadata": {},
   "outputs": [],
   "source": [
    "@trainer.on(Events.EPOCH_COMPLETED)\n",
    "def progress(trainer):\n",
    "    evaluator.run(train_data)\n",
    "    accuracy = evaluator.state.metrics[\"accuracy\"]\n",
    "    epoch = trainer.state.epoch\n",
    "    print(f\"{epoch:<2} ~> loss: {trainer.state.output:.3f} | accuracy: {accuracy:.3f}\")"
   ]
  },
  {
   "cell_type": "code",
   "execution_count": 7,
   "metadata": {},
   "outputs": [
    {
     "name": "stdout",
     "output_type": "stream",
     "text": [
      "1  ~> loss: 0.544 | accuracy: 0.840\n",
      "2  ~> loss: 0.354 | accuracy: 0.902\n",
      "3  ~> loss: 0.266 | accuracy: 0.924\n",
      "4  ~> loss: 0.194 | accuracy: 0.936\n",
      "5  ~> loss: 0.178 | accuracy: 0.947\n",
      "6  ~> loss: 0.186 | accuracy: 0.955\n",
      "7  ~> loss: 0.124 | accuracy: 0.960\n",
      "8  ~> loss: 0.151 | accuracy: 0.964\n",
      "9  ~> loss: 0.130 | accuracy: 0.968\n",
      "10 ~> loss: 0.107 | accuracy: 0.970\n"
     ]
    }
   ],
   "source": [
    "state = trainer.run(train_data, max_epochs=10)"
   ]
  },
  {
   "cell_type": "code",
   "execution_count": 6,
   "metadata": {},
   "outputs": [],
   "source": [
    "frag_iter = iter(train_data)\n",
    "frag = frag_iter.next() # um fragmento do dataset\n",
    "\n",
    "\n",
    "torch.onnx.export(cnn, frag[0], \"convnet.onnx\", verbose=True)"
   ]
  },
  {
   "cell_type": "code",
   "execution_count": 25,
   "metadata": {},
   "outputs": [
    {
     "name": "stdout",
     "output_type": "stream",
     "text": [
      "-rw-r--r-- 1 lincoln users  97K jan  7 14:00 convnet.onnx\n",
      "-rw-r--r-- 1 lincoln users  28K jan  7 13:59 onnx_view.ipynb\n"
     ]
    }
   ],
   "source": [
    "ls -lh | grep onnx"
   ]
  },
  {
   "cell_type": "code",
   "execution_count": 9,
   "metadata": {},
   "outputs": [],
   "source": [
    "import onnx"
   ]
  },
  {
   "cell_type": "code",
   "execution_count": 10,
   "metadata": {},
   "outputs": [
    {
     "name": "stdout",
     "output_type": "stream",
     "text": [
      "graph torch-jit-export (\n",
      "  %0[FLOAT, 600x1x28x28]\n",
      ") initializers (\n",
      "  %1[FLOAT, 16x1x5x5]\n",
      "  %2[FLOAT, 16]\n",
      "  %3[FLOAT, 32x16x5x5]\n",
      "  %4[FLOAT, 32]\n",
      "  %5[FLOAT, 50x32]\n",
      "  %6[FLOAT, 50]\n",
      "  %7[FLOAT, 10x50]\n",
      "  %8[FLOAT, 10]\n",
      ") {\n",
      "  %9 = Conv[dilations = [1, 1], group = 1, kernel_shape = [5, 5], pads = [0, 0, 0, 0], strides = [2, 2]](%0, %1, %2)\n",
      "  %10 = Relu(%9)\n",
      "  %11 = MaxPool[kernel_shape = [2, 2], pads = [0, 0, 0, 0], strides = [2, 2]](%10)\n",
      "  %12 = Conv[dilations = [1, 1], group = 1, kernel_shape = [5, 5], pads = [0, 0, 0, 0], strides = [2, 2]](%11, %3, %4)\n",
      "  %13 = Relu(%12)\n",
      "  %14 = MaxPool[kernel_shape = [2, 2], pads = [0, 0, 0, 0], strides = [2, 2]](%13)\n",
      "  %15 = Constant[value = <Scalar Tensor []>]()\n",
      "  %16 = Shape(%14)\n",
      "  %17 = Gather[axis = 0](%16, %15)\n",
      "  %18 = Constant[value = <Scalar Tensor []>]()\n",
      "  %19 = Unsqueeze[axes = [0]](%17)\n",
      "  %20 = Unsqueeze[axes = [0]](%18)\n",
      "  %21 = Concat[axis = 0](%19, %20)\n",
      "  %22 = Reshape(%14, %21)\n",
      "  %23 = Gemm[alpha = 1, beta = 1, transB = 1](%22, %5, %6)\n",
      "  %24 = Relu(%23)\n",
      "  %25 = Gemm[alpha = 1, beta = 1, transB = 1](%24, %7, %8)\n",
      "  return %25\n",
      "}\n"
     ]
    }
   ],
   "source": [
    "convnet_onnx = onnx.load(\"convnet.onnx\")\n",
    "out = onnx.helper.printable_graph(convnet_onnx.graph)\n",
    "print(out)"
   ]
  },
  {
   "cell_type": "code",
   "execution_count": 12,
   "metadata": {},
   "outputs": [],
   "source": [
    "%%bash\n",
    "\n",
    "python3 /usr/lib/python3.7/site-packages/onnx/tools/net_drawer.py --input convnet.onnx --output convnet.dot\n",
    "\n",
    "dot -Grankdir=TB -Tpng convnet.dot -o convnet.png"
   ]
  },
  {
   "cell_type": "code",
   "execution_count": 22,
   "metadata": {},
   "outputs": [
    {
     "data": {
      "text/html": [
       "<img src=\"convnet.png\" width=30%>\n"
      ],
      "text/plain": [
       "<IPython.core.display.HTML object>"
      ]
     },
     "metadata": {},
     "output_type": "display_data"
    }
   ],
   "source": [
    "%%html\n",
    "<img src=\"convnet.png\" width=30%>"
   ]
  }
 ],
 "metadata": {
  "kernelspec": {
   "display_name": "Python 3",
   "language": "python",
   "name": "python3"
  },
  "language_info": {
   "codemirror_mode": {
    "name": "ipython",
    "version": 3
   },
   "file_extension": ".py",
   "mimetype": "text/x-python",
   "name": "python",
   "nbconvert_exporter": "python",
   "pygments_lexer": "ipython3",
   "version": "3.7.2"
  }
 },
 "nbformat": 4,
 "nbformat_minor": 2
}
