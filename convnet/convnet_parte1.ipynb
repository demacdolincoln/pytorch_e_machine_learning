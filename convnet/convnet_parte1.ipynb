{
 "cells": [
  {
   "cell_type": "markdown",
   "metadata": {},
   "source": [
    "# Redes Convolucionais - Parte 1\n",
    "\n",
    "começando com obs:\n",
    "\n",
    "1. aqui trato apenas do processamento da matriz de entrada, na parte 2 falarei sobre classificação e treinamento\n",
    "2. as referências ao final tem muito mais detalhes do que escrevi aqui, recomendo muito"
   ]
  },
  {
   "cell_type": "code",
   "execution_count": 1,
   "metadata": {},
   "outputs": [
    {
     "name": "stdout",
     "output_type": "stream",
     "text": [
      "Populating the interactive namespace from numpy and matplotlib\n"
     ]
    }
   ],
   "source": [
    "%pylab inline\n",
    "\n",
    "from torch import nn                    # para a classe que contém a rede neural\n",
    "from torch.nn import functional as F    #\n",
    "\n",
    "from torch.utils.data import DataLoader #\n",
    "                                        #\n",
    "import torchvision                      #  para leitura do dataset\n",
    "from torchvision import transforms      #"
   ]
  },
  {
   "cell_type": "markdown",
   "metadata": {},
   "source": [
    "## Funcionamento\n",
    "\n",
    "O objetivo da coisa toda é, a partir de uma matriz de tamanho razoável, ser possível chegar a um array relativamente pequeno e que represente a matriz de entrada ao ponto de ser possível reconhecer (classificar) o conteúdo depois que a rede neural estiver treinada.\n",
    "\n",
    "Na classe abaixo ela não está completa, falta a função forward e algumas camadas de ativação, implementei apenas o tratamento dado à matriz para entender como funciona e criei uma função que ajuda a coletar os dados para análise.\n",
    "\n",
    "Normalmente o procedimento é:\n",
    "\n",
    "1. filtrar\n",
    "2. ativação (normalmente usando a função ReLU)\n",
    "3. max pooling\n",
    "\n",
    "Essa camada de filtragem de conteúdo da matriz gerando uma matriz menor é feita pela classe `nn.Conv2d`, na imagem abaixo há uma explicação visual disso:\n",
    "\n",
    "![](http://adventuresinmachinelearning.com/wp-content/uploads/2017/04/Moving-filter.jpg)\n",
    "\n",
    "_fonte da imagem: http://adventuresinmachinelearning.com/convolutional-neural-networks-tutorial-in-pytorch/_\n",
    "\n",
    "Sei que não ficou claro assim de cara, mas garanto que a melhor explicação que encontrei sobre isso está no 1º link das referências que usei ao final desse arquivo.\n",
    "\n",
    "a 2ª etapa, ativada pela função `F.relu` ajuda diminuir a gradação entre os valores mais altos e mais baixos, \"achatando\" os valores mais baixos, na documentação do pytorch há gráficos para todas as funções de ativação: https://pytorch.org/docs/stable/nn.html#relu\n",
    "\n",
    "a 3ª fase se resume a percorrer \"quadrantes\" na matriz e armazenar o valor máximo daquela região analisada, a imagem abaixo mostra isso de forma bem clara:\n",
    "\n",
    "![](http://www.computacaointeligente.com.br/wp-content/uploads/2017/07/pooling-768x377.jpg)\n",
    "\n",
    "_fonte da imagem: http://www.computacaointeligente.com.br/artigos/redes-neurais-convolutivas-cnn/_\n",
    "\n",
    "obs.: não coloquei um valor para o parâmetro _stride_, que por padrão no pytorch equivale a 1, ele indica quantas posições o quadrante anda para o lado e para baixo, e o kernel_size indica o tamanho do quadrante, assim também acaba influencia no tamanho da matriz ao final."
   ]
  },
  {
   "cell_type": "code",
   "execution_count": 2,
   "metadata": {},
   "outputs": [],
   "source": [
    "class ConvNet(nn.Module):\n",
    "    def __init__(self):\n",
    "        super(ConvNet, self).__init__()\n",
    "        \n",
    "        self.conv1 = nn.Conv2d(1, 1, kernel_size=5) # se a entrada for uma matriz rgb, deixar o canal de enrtada com valor \"3\"\n",
    "        self.conv2 = nn.Conv2d(1, 1, kernel_size=5)\n",
    "        \n",
    "        self.mp = nn.MaxPool2d(kernel_size=2)\n",
    "\n",
    "    def view_phases(self, x):\n",
    "        cv1 = self.conv1(x)\n",
    "        rl1 = F.relu(cv1)\n",
    "        mp1 = self.mp(rl1)\n",
    "        \n",
    "        cv2 = self.conv2(mp1)\n",
    "        rl2 = F.relu(cv2)\n",
    "        mp2 = self.mp(rl2)\n",
    "        \n",
    "        return {\n",
    "            \"conv1\" : cv1,\n",
    "            \"relu1\" : rl1,\n",
    "            \"maxpool1\" : mp1,\n",
    "            \"conv2\" : cv2,\n",
    "            \"rwlu2\" : rl2,\n",
    "            \"maxpool2\": mp2\n",
    "        }\n"
   ]
  },
  {
   "cell_type": "markdown",
   "metadata": {},
   "source": [
    "^ Notas sobre o que há acima ^\n",
    "\n",
    "> breve esclarecimento sobre `nn.Conv2d`: `nn.Conv2d(in_channels, out_channels, kernel_size)` ~> são esses os atributos obrigatórios\n",
    "\n",
    "habitalmente em `nn.Conv2d`, e falo isso com base em absolutamente todos os códigos que vi, no canal de saída, há um valor maior que o da entrada, mas isso prejudica a visualização quando se busca mostrar as coisas de forma mais didática, por isso optei por deixar o mesmo tamanho, embora haja diferenças em relação à matriz de entrada.\n",
    "\n",
    "---\n",
    "\n",
    "## Processamento:\n",
    "\n",
    "inicialmente lendo a base de dados"
   ]
  },
  {
   "cell_type": "code",
   "execution_count": 3,
   "metadata": {},
   "outputs": [],
   "source": [
    "convnet = ConvNet()"
   ]
  },
  {
   "cell_type": "code",
   "execution_count": 4,
   "metadata": {},
   "outputs": [],
   "source": [
    "trans = transforms.Compose([transforms.ToTensor()])\n",
    "\n",
    "data_path = \"images_art/images/mnist/\"\n",
    "data = torchvision.datasets.MNIST(data_path, transform=trans) # download=True)\n",
    "\n",
    "batch_size = 30\n",
    "test = DataLoader(dataset=data, batch_size=batch_size, shuffle=True)"
   ]
  },
  {
   "cell_type": "code",
   "execution_count": 5,
   "metadata": {},
   "outputs": [],
   "source": [
    "frag = iter(test).next() # um fragmento do dataset"
   ]
  },
  {
   "cell_type": "markdown",
   "metadata": {},
   "source": [
    "Essa variável '`frag`' é uma lista composta de 2 elementos: as matrizes corrspondentes às imagens e os valores correspondentes, neste caso o valor dos números manuscritos.\n",
    "\n",
    "Em `In [4]` transformamos o conteúdo do dataset em tensor do pytorch, para que possamos visualizar no matplotlib, precisaremos que uma matriz de dimensões adequadas seja passado para o a função matshow (ou imshow, que também funciona nesse caso). Para isso fazemos:\n",
    "\n",
    "1. tensor.view() # similar ao array.reshape() do numpy\n",
    "2. .detach()     # que destaca o conteúdo do resto do tensor\n",
    "3. .numpy()      # converte para array do numpy"
   ]
  },
  {
   "cell_type": "code",
   "execution_count": 6,
   "metadata": {},
   "outputs": [
    {
     "data": {
      "text/plain": [
       "<matplotlib.image.AxesImage at 0x7fc40430e080>"
      ]
     },
     "execution_count": 6,
     "metadata": {},
     "output_type": "execute_result"
    },
    {
     "data": {
      "image/png": "[encoded data removed]",
      "text/plain": [
       "<Figure size 288x288 with 1 Axes>"
      ]
     },
     "metadata": {},
     "output_type": "display_data"
    }
   ],
   "source": [
    "index = 3\n",
    "\n",
    "matshow(frag[0][index].view(28, 28).detach().numpy()) # dando uma olhada na entrada"
   ]
  },
  {
   "cell_type": "code",
   "execution_count": 7,
   "metadata": {},
   "outputs": [],
   "source": [
    "out = convnet.view_phases(frag[0])"
   ]
  },
  {
   "cell_type": "code",
   "execution_count": 8,
   "metadata": {},
   "outputs": [
    {
     "data": {
      "image/png": "[encoded data removed]",
      "text/plain": [
       "<Figure size 864x576 with 6 Axes>"
      ]
     },
     "metadata": {},
     "output_type": "display_data"
    }
   ],
   "source": [
    "fig, axs = subplots(nrows=2, ncols=3, figsize=(12, 8))\n",
    "fig.tight_layout()\n",
    "\n",
    "axs[0, 0].matshow(out['conv1'][index].view(24, 24).detach().numpy())\n",
    "axs[0, 1].matshow(out['relu1'][index].view(24, 24).detach().numpy())\n",
    "axs[0, 2].matshow(out['maxpool1'][index].view(12, 12).detach().numpy())\n",
    "\n",
    "axs[1, 0].matshow(out['conv2'][index].view(8, 8).detach().numpy())\n",
    "axs[1, 1].matshow(out['conv2'][index].view(8, 8).detach().numpy())\n",
    "axs[1, 2].matshow(out['maxpool2'][index].view(4, 4).detach().numpy());"
   ]
  },
  {
   "cell_type": "markdown",
   "metadata": {},
   "source": [
    "Acima vemos em cada linha, a ação de uma camada convolucional, seguindo a ordem das colunas:\n",
    "\n",
    "1. coluna: `nn.Conv2d`\n",
    "2. coluna: `F.relu`\n",
    "3. coluna: `nn.MaxPool2d`\n",
    "\n",
    "É bem notável a redução do tamanho da matriz, que numa situação mais próxima de utilização real, seria redimensionada para um vetor a fim de ser processada por mais camadas de ativação (e em todos os tutoriais que vi eram uma função linear e acho que só 1 usava mais uma vez o ReLU).\n",
    "\n",
    "Obs.: o esquema de cores não leva em consideração os mesmos valores de todos os heatmap, então evidenciam mais onde há valores mais altos e mais baixos do que os valores em seu sentido absoluto."
   ]
  },
  {
   "cell_type": "markdown",
   "metadata": {},
   "source": [
    "# minhas referências*:\n",
    "\n",
    "O vídeos mais claro e esclarecedor que me ajudou em tudo: https://www.youtube.com/watch?v=FmpDIaiMIeA\n",
    "\n",
    "também recomendo muito: http://adventuresinmachinelearning.com/convolutional-neural-networks-tutorial-in-pytorch/\n",
    "\n",
    "em português e muito bem escrito: http://www.computacaointeligente.com.br/artigos/redes-neurais-convolutivas-cnn/\n",
    "\n",
    "* *ao menos as que consegui lembrar*"
   ]
  }
 ],
 "metadata": {
  "kernelspec": {
   "display_name": "Python 3",
   "language": "python",
   "name": "python3"
  },
  "language_info": {
   "codemirror_mode": {
    "name": "ipython",
    "version": 3
   },
   "file_extension": ".py",
   "mimetype": "text/x-python",
   "name": "python",
   "nbconvert_exporter": "python",
   "pygments_lexer": "ipython3",
   "version": "3.6.6"
  }
 },
 "nbformat": 4,
 "nbformat_minor": 2
}
