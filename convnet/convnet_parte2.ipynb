{
 "cells": [
  {
   "cell_type": "markdown",
   "metadata": {},
   "source": [
    "# Redes Neurais Convolucionais - parte 2"
   ]
  },
  {
   "cell_type": "code",
   "execution_count": 1,
   "metadata": {},
   "outputs": [
    {
     "name": "stdout",
     "output_type": "stream",
     "text": [
      "Populating the interactive namespace from numpy and matplotlib\n"
     ]
    }
   ],
   "source": [
    "%pylab inline\n",
    "\n",
    "from torch import nn\n",
    "from torch import optim\n",
    "from torch.nn import functional as F\n",
    "\n",
    "from torch.utils.data import DataLoader\n",
    "\n",
    "import torchvision\n",
    "from torchvision import transforms\n",
    "\n",
    "plt.rcParams['image.cmap'] = 'gray_r'"
   ]
  },
  {
   "cell_type": "markdown",
   "metadata": {},
   "source": [
    "A única diferença real entre o código da classe criada na parte 1 em relação a este da parte 2 é a adição de 2 camadas lineares.\n",
    "\n",
    "Aproveitei a reescrita para usar um outro objeto do módulo `nn`, o `nn.Sequential` tem um nome verdadeiramente óbvio, a idéia é juntar processos para tornar a função `forward` mais limpa e com menos cara de lisp*\n",
    "\n",
    "Na função `forward`, adicioneu 3 linhas de código: uma que redimensiona a saída da fase convolucional para que agora ele seja um vetor, e as duas linhas responsáveis de fato pela classificação que usam funções lineares.\n",
    "\n",
    "Algo que fiquei em dúvida na 1ª vez que implementei foi o valor que eu tinha de colocar na entrada da primeira camada linear, este vídeo, bem no finalzinho, nos ~ 2 minutos finais, dá uma dica que usei para saber que valor colocar: https://www.youtube.com/watch?v=LgFNRIFxuUo\n",
    "\n",
    "\\* código com cara de lisp ---> `(f4(f3(f2(f1()))))`"
   ]
  },
  {
   "cell_type": "code",
   "execution_count": 2,
   "metadata": {},
   "outputs": [],
   "source": [
    "class ConvNet(nn.Module):\n",
    "    def __init__(self):\n",
    "        super(ConvNet, self).__init__()\n",
    "        \n",
    "        self.conv1 = nn.Sequential(\n",
    "                                nn.Conv2d(1, 16, kernel_size=5, stride=1),\n",
    "                                nn.ReLU()\n",
    "                            )\n",
    "        self.conv2 = nn.Sequential(\n",
    "                                nn.Conv2d(16, 32, kernel_size=5, stride=2),\n",
    "                                nn.ReLU()\n",
    "                            )\n",
    "        \n",
    "        self.mp = nn.MaxPool2d(kernel_size=2)\n",
    "        \n",
    "        self.fc1 = nn.Linear(128, 50)\n",
    "        self.fc2 = nn.Linear(50, 10)\n",
    "\n",
    "    def forward(self, x):\n",
    "        x = self.mp(self.conv1(x))\n",
    "        x = self.mp(self.conv2(x))\n",
    "        \n",
    "        x = x.view(x.shape[0], -1)\n",
    "        \n",
    "        x = F.relu(self.fc1(x))\n",
    "        x = self.fc2(x)\n",
    "        return x      \n"
   ]
  },
  {
   "cell_type": "code",
   "execution_count": 3,
   "metadata": {},
   "outputs": [],
   "source": [
    "convnet = ConvNet()"
   ]
  },
  {
   "cell_type": "markdown",
   "metadata": {},
   "source": [
    "## lendo o dataset\n",
    "\n",
    "Algumas particularidades do torchvision:\n",
    "\n",
    "### trasnforms\n",
    "\n",
    "Podemos fazer um pré-processamento dos dados de entrada, aqui apenas defini para converter o tipo dos dados lidos em tensores do pytorch, mas é possível redimensionar as imagens, converter para escala de cinza, ler como imagem aberta pelo PIL e mais algumas coisas, porém para um pré-processamento de verdade (usando filtros em outro padrão de cores como o CMYK para ressaltar aspectos da imagem por exemplo) é bem melhor criar um script próprio e depois converter de array para tensor.\n",
    "\n",
    "### blocos e iteráveis\n",
    "\n",
    "O maior problema de trabalhar com grandes datasets ou datasets compostos por matrizes de tamanho razoável é o consumo de RAM ser bem elevado, por isso podemos definir a leitura do dataset em blocos indicando o tamanho de cada bloco (\"batch_size\"), no caso defini que para o treinamento cada bloco terá 300 imagens e para testes apenas 30.\n",
    "\n",
    "Para ler cada bloco precisamos usar a função builtin `iter`, a cada iteração o objeto devolve 2 tensores: um contendo a matriz que representa as imagens e outro com os valores cujas imagens representam."
   ]
  },
  {
   "cell_type": "code",
   "execution_count": 5,
   "metadata": {},
   "outputs": [],
   "source": [
    "trans = transforms.Compose([transforms.ToTensor()])\n",
    "\n",
    "data_path = \"../../datasets/mnist/\"\n",
    "data = torchvision.datasets.MNIST(data_path, transform=trans) # download=True)\n",
    "\n",
    "batch_size = 30\n",
    "train = DataLoader(dataset=data, batch_size=batch_size*10, shuffle=True)\n",
    "test = DataLoader(dataset=data, batch_size=batch_size, shuffle=True)"
   ]
  },
  {
   "cell_type": "code",
   "execution_count": 6,
   "metadata": {},
   "outputs": [],
   "source": [
    "frag_iter = iter(test)\n",
    "frag = frag_iter.next() # um fragmento do dataset"
   ]
  },
  {
   "cell_type": "code",
   "execution_count": 7,
   "metadata": {},
   "outputs": [
    {
     "data": {
      "text/plain": [
       "<matplotlib.image.AxesImage at 0x7f30a3603fd0>"
      ]
     },
     "execution_count": 7,
     "metadata": {},
     "output_type": "execute_result"
    },
    {
     "data": {
      "image/png": "[encoded data removed]",
      "text/plain": [
       "<Figure size 288x288 with 1 Axes>"
      ]
     },
     "metadata": {
      "needs_background": "light"
     },
     "output_type": "display_data"
    }
   ],
   "source": [
    "index = 3\n",
    "\n",
    "matshow(frag[0][index].view(28, 28).detach().numpy()) # dando uma olhada na entrada"
   ]
  },
  {
   "cell_type": "code",
   "execution_count": 8,
   "metadata": {},
   "outputs": [],
   "source": [
    "out = convnet(frag[0])"
   ]
  },
  {
   "cell_type": "code",
   "execution_count": 9,
   "metadata": {},
   "outputs": [
    {
     "data": {
      "image/png": "[encoded data removed]",
      "text/plain": [
       "<Figure size 432x288 with 1 Axes>"
      ]
     },
     "metadata": {
      "needs_background": "light"
     },
     "output_type": "display_data"
    }
   ],
   "source": [
    "plot(out[0].detach().numpy())\n",
    "plt.grid(True)\n",
    "plt.xticks(list(range(10)))\n",
    "plt.title(\"previsto: {}\".format(out[0].argmax().item()));"
   ]
  },
  {
   "cell_type": "code",
   "execution_count": 10,
   "metadata": {},
   "outputs": [],
   "source": [
    "learning_rate = 1e-5\n",
    "\n",
    "criterion = nn.CrossEntropyLoss()\n",
    "optimizer = optim.Adam(convnet.parameters(), lr=learning_rate)"
   ]
  },
  {
   "cell_type": "code",
   "execution_count": null,
   "metadata": {},
   "outputs": [
    {
     "name": "stdout",
     "output_type": "stream",
     "text": [
      "epoch: 0   | loss: 2.29745 | acerto: 13.333%\n",
      "epoch: 1   | loss: 2.26750 | acerto: 20.000%\n",
      "epoch: 2   | loss: 2.24379 | acerto: 20.000%\n",
      "epoch: 3   | loss: 2.20294 | acerto: 36.667%\n",
      "epoch: 4   | loss: 2.12598 | acerto: 46.667%\n",
      "epoch: 5   | loss: 2.01721 | acerto: 43.333%\n",
      "epoch: 6   | loss: 1.89462 | acerto: 60.000%\n",
      "epoch: 7   | loss: 1.80269 | acerto: 73.333%\n",
      "epoch: 8   | loss: 1.60816 | acerto: 56.667%\n",
      "epoch: 9   | loss: 1.46735 | acerto: 70.000%\n",
      "epoch: 10  | loss: 1.32296 | acerto: 93.333%\n",
      "epoch: 11  | loss: 1.26405 | acerto: 76.667%\n"
     ]
    }
   ],
   "source": [
    "%%time\n",
    "epochs = 15\n",
    "\n",
    "loss_items = []\n",
    "\n",
    "for epoch in range(epochs):\n",
    "    \n",
    "    for images, labels in train:\n",
    "        outs = convnet(images)\n",
    "        loss = criterion(outs, labels)\n",
    "        loss_items.append(loss.item())\n",
    "        \n",
    "        optimizer.zero_grad()\n",
    "        loss.backward()\n",
    "        optimizer.step()\n",
    "        \n",
    "    # verificando o percentual de acerto\n",
    "    frag = frag_iter.next() # bloco só de 30 imagens\n",
    "    res = np.array([i.argmax().item() for i in convnet(frag[0])])\n",
    "    target = np.array([i.item() for i in frag[1]])\n",
    "    c = 0\n",
    "    for i in res - target:\n",
    "        if i == 0:\n",
    "            c+=1\n",
    "    perc = c/len(res)*100\n",
    "    print(f'epoch: {epoch:<3} | loss: {loss.item():.5f} | acerto: {perc:.3f}%')"
   ]
  },
  {
   "cell_type": "markdown",
   "metadata": {},
   "source": [
    "#### Obs:\n",
    "O percentual de acerto varia tanto por usar uma dataset de teste pequeno, composto de valores aleatórios e justamente por ser pequeno tende a ter variações maiores, mas ainda assim vemos com clareza o progresso do treinamento."
   ]
  },
  {
   "cell_type": "code",
   "execution_count": null,
   "metadata": {},
   "outputs": [],
   "source": [
    "plot(loss_items)"
   ]
  },
  {
   "cell_type": "code",
   "execution_count": null,
   "metadata": {},
   "outputs": [],
   "source": [
    "frag = frag_iter.next()"
   ]
  },
  {
   "cell_type": "code",
   "execution_count": null,
   "metadata": {},
   "outputs": [],
   "source": [
    "ind = 16\n",
    "\n",
    "out = convnet(frag[0])\n",
    "\n",
    "fig, (ax1, ax2) = subplots(1, 2, figsize=(15, 4))\n",
    "\n",
    "ax1.plot(out[ind].detach().numpy(), linewidth=3.5)\n",
    "ax1.set_title(\"resultado da cassificação: {}\".format(out[ind].argmax().item()))\n",
    "ax1.grid(True)\n",
    "ax1.set_xticks(list(range(10)))\n",
    "\n",
    "ax2.imshow(frag[0][ind].view(28, 28).detach().numpy())\n",
    "ax2.set_title(\"valor esperado: {}\".format(frag[1][ind].item()));"
   ]
  },
  {
   "cell_type": "markdown",
   "metadata": {},
   "source": [
    "Poderíamos considerar o gráfico acima como uma representação de similaridade, como se dizesse que o formato do número \"9\" é parecido com o número \"7\" e \"4\" e nada parecido com o \"0\", mas essa semelhança é relativa à transformação em vetor daquela matriz resultante da ultima aplicação do maxpool."
   ]
  },
  {
   "cell_type": "code",
   "execution_count": null,
   "metadata": {},
   "outputs": [],
   "source": [
    "res = np.array([i.argmax().item() for i in out])\n",
    "target = np.array([i.item() for i in frag[1]])\n",
    "\n",
    "c = 0\n",
    "for i in res - target:\n",
    "    if i == 0:\n",
    "        c+=1\n",
    "print(f'acerto para este bloco: {c/len(res)*100:.2f}%')"
   ]
  },
  {
   "cell_type": "markdown",
   "metadata": {},
   "source": [
    "---\n",
    "\n",
    "Como o processamento realmente demora bastante, podemos salvar a rede neural treinada para usarmos depois, o torch tem essa função `save()` que nada mais é que uma camada de abstração sobre o pickle:"
   ]
  },
  {
   "cell_type": "code",
   "execution_count": null,
   "metadata": {},
   "outputs": [],
   "source": [
    "import torch\n",
    "\n",
    "torch.save(convnet, \"convnet.pth\")"
   ]
  }
 ],
 "metadata": {
  "kernelspec": {
   "display_name": "Python 3",
   "language": "python",
   "name": "python3"
  },
  "language_info": {
   "codemirror_mode": {
    "name": "ipython",
    "version": 3
   },
   "file_extension": ".py",
   "mimetype": "text/x-python",
   "name": "python",
   "nbconvert_exporter": "python",
   "pygments_lexer": "ipython3",
   "version": "3.7.0"
  }
 },
 "nbformat": 4,
 "nbformat_minor": 2
}
